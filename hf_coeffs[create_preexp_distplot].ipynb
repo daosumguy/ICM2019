{
  "nbformat": 4,
  "nbformat_minor": 0,
  "metadata": {
    "colab": {
      "name": "hf_coeffs[create preexp distplot].ipynb",
      "version": "0.3.2",
      "provenance": [],
      "collapsed_sections": [],
      "include_colab_link": true
    },
    "kernelspec": {
      "name": "python3",
      "display_name": "Python 3"
    }
  },
  "cells": [
    {
      "cell_type": "markdown",
      "metadata": {
        "id": "view-in-github",
        "colab_type": "text"
      },
      "source": [
        "<a href=\"https://colab.research.google.com/github/isaranwrap/ICM2019/blob/master/hf_coeffs%5Bcreate_preexp_distplot%5D.ipynb\" target=\"_parent\"><img src=\"https://colab.research.google.com/assets/colab-badge.svg\" alt=\"Open In Colab\"/></a>"
      ]
    },
    {
      "cell_type": "code",
      "metadata": {
        "id": "hl4_yD9c-WfO",
        "colab_type": "code",
        "colab": {}
      },
      "source": [
        "import numpy as np\n",
        "import pandas as pd\n",
        "import matplotlib.pyplot as plt\n",
        "\n",
        "from sklearn.preprocessing import RobustScaler\n",
        "from sklearn.linear_model import LogisticRegression\n",
        "from sklearn.metrics import roc_auc_score\n",
        "\n",
        "import seaborn as sns\n",
        "\n",
        "import matplotlib.patches as mpatches\n",
        "\n",
        "from scipy.stats import gaussian_kde"
      ],
      "execution_count": 0,
      "outputs": []
    },
    {
      "cell_type": "code",
      "metadata": {
        "id": "EAEqweIx-e5U",
        "colab_type": "code",
        "colab": {}
      },
      "source": [
        "d = pd.read_csv('heart failure death data.csv')\n",
        "features = ['norepinephrine',\n",
        "        'map',\n",
        "        'icu',\n",
        "        'bnp',\n",
        "        'flagbands',\n",
        "        'flagpharterial',\n",
        "        'potassium',\n",
        "        'piptazo',\n",
        "        'buncreatratio',\n",
        "        'pulse']\n",
        "\n",
        "#features = ['acearbrenin',\n",
        "            #'flaganc',\n",
        "            #'rbcc',\n",
        "            #'age',\n",
        "            #'buncreatratio',\n",
        "            #'bnp',\n",
        "            #'lymphpercent',\n",
        "            #'flagurine',\n",
        "            #'flagpo2',\n",
        "            #'bun']\n",
        "\n",
        "outcome = ['inpatient_death'] \n",
        "cols = features + outcome\n",
        "\n",
        "d['map'] = d['diastolic'] + (1/3)*(d['systolic'] - d['diastolic'])"
      ],
      "execution_count": 0,
      "outputs": []
    },
    {
      "cell_type": "code",
      "metadata": {
        "id": "Q_yDT_4e-pbT",
        "colab_type": "code",
        "outputId": "f6d687a6-0f05-4f7f-afff-2cca1894ac53",
        "colab": {
          "base_uri": "https://localhost:8080/",
          "height": 221
        }
      },
      "source": [
        "data = d.loc[:,cols]\n",
        "data.dropna(inplace = True)\n",
        "data.head()\n",
        "data.isnull().sum()"
      ],
      "execution_count": 0,
      "outputs": [
        {
          "output_type": "execute_result",
          "data": {
            "text/plain": [
              "norepinephrine     0\n",
              "map                0\n",
              "icu                0\n",
              "bnp                0\n",
              "flagbands          0\n",
              "flagpharterial     0\n",
              "potassium          0\n",
              "piptazo            0\n",
              "buncreatratio      0\n",
              "pulse              0\n",
              "inpatient_death    0\n",
              "dtype: int64"
            ]
          },
          "metadata": {
            "tags": []
          },
          "execution_count": 80
        }
      ]
    },
    {
      "cell_type": "code",
      "metadata": {
        "id": "a1qgB5yS-uiT",
        "colab_type": "code",
        "colab": {}
      },
      "source": [
        "y = data.inpatient_death\n",
        "X = data.drop('inpatient_death', axis=1)\n",
        "\n",
        "transformer = RobustScaler().fit(X)\n",
        "center, scale = transformer.center_, transformer.scale_\n",
        "X_transformed = transformer.transform(X)\n",
        "#Normalize\n",
        "#Xmean = X.mean()\n",
        "#Xstd  = X.std()\n",
        "#X = (X - Xmean)/Xstd\n",
        "# dataframe version pd.DataFrame(X_transformed, columns = cols[:-1])"
      ],
      "execution_count": 0,
      "outputs": []
    },
    {
      "cell_type": "code",
      "metadata": {
        "id": "xz8a76Ue-x9o",
        "colab_type": "code",
        "colab": {}
      },
      "source": [
        "logreg = LogisticRegression(solver='lbfgs')\n",
        "logreg.fit(X_transformed, y)\n",
        "\n",
        "coeffs = np.copy(logreg.coef_[0])\n",
        "intercept = np.copy(logreg.intercept_)\n",
        "intercept -= ((center*coeffs)/scale).sum()\n",
        "coeffs /= scale\n",
        "\n",
        "logreg_standardized = LogisticRegression(solver = 'lbfgs')\n",
        "logreg_standardized.fit(X_transformed, y)\n",
        "logreg_standardized.coef_ = coeffs[None, :]\n",
        "logreg_standardized.intercept_ = intercept"
      ],
      "execution_count": 0,
      "outputs": []
    },
    {
      "cell_type": "code",
      "metadata": {
        "id": "L6zvoJTc-05v",
        "colab_type": "code",
        "outputId": "b13bdba3-35ae-4b88-9842-75c3e6d07148",
        "colab": {
          "base_uri": "https://localhost:8080/",
          "height": 34
        }
      },
      "source": [
        "preds = logreg.predict_proba(X_transformed)[:,1]\n",
        "auc1 = roc_auc_score(y, preds)\n",
        "preds_standardized = logreg_standardized.predict_proba(X)[:,1]\n",
        "auc2 = roc_auc_score(y, preds_standardized)\n",
        "print(auc1, auc2)"
      ],
      "execution_count": 0,
      "outputs": [
        {
          "output_type": "stream",
          "text": [
            "0.8313097301829547 0.8313097301829547\n"
          ],
          "name": "stdout"
        }
      ]
    },
    {
      "cell_type": "code",
      "metadata": {
        "id": "X6HpOIAz-3RP",
        "colab_type": "code",
        "outputId": "9b8b8445-a9c4-4eb9-f258-0976ff799d0c",
        "colab": {
          "base_uri": "https://localhost:8080/",
          "height": 295
        }
      },
      "source": [
        "preexp = -np.log(1/preds-1)\n",
        "plt.hist(preexp)\n",
        "#sns.distplot(preexp)\n",
        "plt.title('Distribution of pre-exponentiated scores')\n",
        "plt.xlabel('Pre-exponentiated Scores')\n",
        "plt.ylabel('Frequency')\n",
        "plt.savefig('Distribution of pre-exponentiated scores 2.png')"
      ],
      "execution_count": 0,
      "outputs": [
        {
          "output_type": "display_data",
          "data": {
            "image/png": "[encoded data removed]",
            "text/plain": [
              "<Figure size 432x288 with 1 Axes>"
            ]
          },
          "metadata": {
            "tags": []
          }
        }
      ]
    },
    {
      "cell_type": "code",
      "metadata": {
        "id": "VqTG7Vz2AZWk",
        "colab_type": "code",
        "outputId": "96c913cc-8eba-4cf0-8abc-f3be1b6bd336",
        "colab": {
          "base_uri": "https://localhost:8080/",
          "height": 295
        }
      },
      "source": [
        "#plt.hist(preds)\n",
        "sns.distplot(preds)#, norm_hist=False)\n",
        "plt.title('Distribution of probability scores')\n",
        "plt.xlabel('Probably scores')\n",
        "plt.ylabel('Frequency')\n",
        "plt.savefig('Distribution of probability scores 2.png')"
      ],
      "execution_count": 0,
      "outputs": [
        {
          "output_type": "display_data",
          "data": {
            "image/png": "[encoded data removed]",
            "text/plain": [
              "<Figure size 432x288 with 1 Axes>"
            ]
          },
          "metadata": {
            "tags": []
          }
        }
      ]
    },
    {
      "cell_type": "code",
      "metadata": {
        "id": "wjXjMqfHC3Hz",
        "colab_type": "code",
        "outputId": "f8243f31-0b23-4f19-da72-60b2762f95ab",
        "colab": {
          "base_uri": "https://localhost:8080/",
          "height": 51
        }
      },
      "source": [
        "np.percentile(preds, np.arange(0, 100, 10)) #splits into deciles/quartiles"
      ],
      "execution_count": 0,
      "outputs": [
        {
          "output_type": "execute_result",
          "data": {
            "text/plain": [
              "array([0.00169291, 0.00828734, 0.0112772 , 0.01434764, 0.01777262,\n",
              "       0.02223139, 0.0285639 , 0.03892372, 0.05928552, 0.1104548 ])"
            ]
          },
          "metadata": {
            "tags": []
          },
          "execution_count": 86
        }
      ]
    },
    {
      "cell_type": "code",
      "metadata": {
        "id": "gqwgnOvoEtaC",
        "colab_type": "code",
        "outputId": "f35b35a1-d9d3-47e1-fc03-b8a193a83659",
        "colab": {
          "base_uri": "https://localhost:8080/",
          "height": 34
        }
      },
      "source": [
        "preds.sort()\n",
        "np.any(preds == 0.02223139)"
      ],
      "execution_count": 0,
      "outputs": [
        {
          "output_type": "execute_result",
          "data": {
            "text/plain": [
              "False"
            ]
          },
          "metadata": {
            "tags": []
          },
          "execution_count": 87
        }
      ]
    },
    {
      "cell_type": "code",
      "metadata": {
        "id": "_VWfA2jb2AXv",
        "colab_type": "code",
        "outputId": "c63ad883-760d-462f-d80f-a557ab6e46d6",
        "colab": {
          "base_uri": "https://localhost:8080/",
          "height": 51
        }
      },
      "source": [
        "preds"
      ],
      "execution_count": 0,
      "outputs": [
        {
          "output_type": "execute_result",
          "data": {
            "text/plain": [
              "array([0.00169291, 0.00183125, 0.00197418, ..., 0.81981675, 0.87098989,\n",
              "       0.92461896])"
            ]
          },
          "metadata": {
            "tags": []
          },
          "execution_count": 88
        }
      ]
    },
    {
      "cell_type": "code",
      "metadata": {
        "id": "-WbY_TYQ0ln4",
        "colab_type": "code",
        "outputId": "a06c07af-66c7-4da1-f8c9-6175059e81cb",
        "colab": {
          "base_uri": "https://localhost:8080/",
          "height": 295
        }
      },
      "source": [
        "arr = preds\n",
        "N, bins, patches = plt.hist(arr, bins=100)\n",
        "cmap = plt.get_cmap('Set3')\n",
        "vlow = cmap(6)\n",
        "low = '#FFFF99'\n",
        "medium =cmap(5)\n",
        "high = cmap(3)\n",
        "veryhigh = 'red'\n",
        "\n",
        "n = 10\n",
        "stopper = int(N.shape[0])\n",
        "for i in range(0,int(stopper*0.02)):\n",
        "    patches[i].set_facecolor(vlow)\n",
        "for i in range(int(stopper*0.02),int(stopper*0.05)):\n",
        "    patches[i].set_facecolor(low)\n",
        "for i in range(int(stopper*0.05),int(stopper*0.1)):\n",
        "    patches[i].set_facecolor(medium)\n",
        "for i in range(int(stopper*0.1),int(stopper*0.2)+2):\n",
        "    patches[i].set_facecolor(high)\n",
        "for i in range(int(stopper*0.2)+2,int(stopper)):\n",
        "    patches[i].set_facecolor('red')\n",
        "    \n",
        "    \n",
        "#for item in patches:\n",
        " #   item.set_height(item.get_height()/sum(preexp))\n",
        "\n",
        "#plt.xticks(fontsize=14)  \n",
        "#plt.yticks(fontsize=14)\n",
        "\n",
        "vlow_risk = mpatches.Patch(color=vlow, label='Very Low Risk (<2%)')\n",
        "low_risk = mpatches.Patch(color=low, label='Low Risk (2-5)%)')\n",
        "medium_risk = mpatches.Patch(color=medium, label='Medium Risk (5-10%)')\n",
        "high_risk = mpatches.Patch(color=high, label='High Risk (10-20%)')\n",
        "vhigh_risk = mpatches.Patch(color=veryhigh, label='Very High Risk (>20%)')\n",
        "\n",
        "risk_levels = [vlow_risk, low_risk, medium_risk, high_risk, vhigh_risk]\n",
        "plt.legend(handles=risk_levels)\n",
        "#plt.xlim(0.4, 1)\n",
        "\n",
        "density = gaussian_kde(arr)\n",
        "xs = np.linspace(-0,1,200)\n",
        "density.covariance_factor = lambda : .25\n",
        "density._compute_covariance()\n",
        "#plt.plot(xs,density(xs)*200, '+',ms=2,color='purple')\n",
        "#plt.ylim(0,10)\n",
        "density(xs).shape\n",
        "plt.title('Risk Stratification')\n",
        "plt.ylabel('Frequency')\n",
        "plt.xlabel('Probability of getting HF')\n",
        "plt.savefig('Risk Stratification.png')"
      ],
      "execution_count": 0,
      "outputs": [
        {
          "output_type": "display_data",
          "data": {
            "image/png": "[encoded data removed]",
            "text/plain": [
              "<Figure size 432x288 with 1 Axes>"
            ]
          },
          "metadata": {
            "tags": []
          }
        }
      ]
    },
    {
      "cell_type": "code",
      "metadata": {
        "id": "0fIVmfa62_tm",
        "colab_type": "code",
        "outputId": "dc86bf08-e758-4d9e-e9df-fd4196ba9d12",
        "colab": {
          "base_uri": "https://localhost:8080/",
          "height": 34
        }
      },
      "source": [
        "data.shape"
      ],
      "execution_count": 0,
      "outputs": [
        {
          "output_type": "execute_result",
          "data": {
            "text/plain": [
              "(11802, 11)"
            ]
          },
          "metadata": {
            "tags": []
          },
          "execution_count": 102
        }
      ]
    },
    {
      "cell_type": "code",
      "metadata": {
        "id": "qAZpfMgM22ZN",
        "colab_type": "code",
        "outputId": "e68cca55-a993-4965-df68-b0d1dd04b7ee",
        "colab": {
          "base_uri": "https://localhost:8080/",
          "height": 34
        }
      },
      "source": [
        ""
      ],
      "execution_count": 0,
      "outputs": [
        {
          "output_type": "execute_result",
          "data": {
            "text/plain": [
              "236.04"
            ]
          },
          "metadata": {
            "tags": []
          },
          "execution_count": 103
        }
      ]
    },
    {
      "cell_type": "code",
      "metadata": {
        "id": "z65Vpz7PFB75",
        "colab_type": "code",
        "colab": {}
      },
      "source": [
        "first_tertile = preds[:int(preds.shape[0]/3)]\n",
        "second_tertile = preds[int(preds.shape[0]/3):int(preds.shape[0]*2/3)]\n",
        "third_tertile = preds[int(preds.shape[0]*2/3):]"
      ],
      "execution_count": 0,
      "outputs": []
    },
    {
      "cell_type": "code",
      "metadata": {
        "id": "GfDOjqAfPwnD",
        "colab_type": "code",
        "outputId": "6cdd6798-265b-4511-951b-92e6de545bca",
        "colab": {
          "base_uri": "https://localhost:8080/",
          "height": 295
        }
      },
      "source": [
        "arr = preexp\n",
        "N, bins, patches = plt.hist(arr, bins=100)\n",
        "cmap = plt.get_cmap('Set3')\n",
        "low = cmap(6)\n",
        "medium =cmap(5)\n",
        "high = cmap(3)\n",
        "veryhigh = cmap(2)\n",
        "\n",
        "n = 4\n",
        "stopper = int(N.shape[0]/n)\n",
        "for i in range(0,stopper):\n",
        "    patches[i].set_facecolor(low)\n",
        "for i in range(stopper,stopper*2):\n",
        "    patches[i].set_facecolor(medium)\n",
        "for i in range(2*stopper,int(stopper*(4*0.95))):\n",
        "    patches[i].set_facecolor(high)\n",
        "for i in range(int(stopper*(4*0.95))-1,stopper):\n",
        "    patches[i].set_facecolor('red')\n",
        "    \n",
        "#for item in patches:\n",
        " #   item.set_height(item.get_height()/sum(preexp))\n",
        "\n",
        "#plt.xticks(fontsize=14)  \n",
        "#plt.yticks(fontsize=14)\n",
        "\n",
        "low_risk = mpatches.Patch(color=cmap(6), label='Low Risk (<25%)')\n",
        "medium_risk = mpatches.Patch(color=cmap(5), label='Medium Risk (25-50%)')\n",
        "high_risk = mpatches.Patch(color=cmap(3), label='High Risk (50-95%)')\n",
        "vhigh_risk = mpatches.Patch(color='red', label='Very High Risk (>95%)')\n",
        "\n",
        "risk_levels = [low_risk, medium_risk, high_risk, vhigh_risk]\n",
        "plt.legend(handles=risk_levels)\n",
        "#plt.xlim(0.4, 1)\n",
        "\n",
        "density = gaussian_kde(arr)\n",
        "xs = np.linspace(-6,2,200)\n",
        "density.covariance_factor = lambda : .25\n",
        "density._compute_covariance()\n",
        "plt.plot(xs,density(xs)*1050, '+',ms=2,color='purple')\n",
        "#plt.ylim(0,10)\n",
        "density(xs).shape\n",
        "plt.title('Risk Stratification')\n",
        "plt.ylabel('Frequency')\n",
        "plt.xlabel('Risk Score')\n",
        "plt.savefig('Risk Stratification.png')"
      ],
      "execution_count": 0,
      "outputs": [
        {
          "output_type": "display_data",
          "data": {
            "image/png": "[encoded data removed]",
            "text/plain": [
              "<Figure size 432x288 with 1 Axes>"
            ]
          },
          "metadata": {
            "tags": []
          }
        }
      ]
    },
    {
      "cell_type": "code",
      "metadata": {
        "id": "F_FtJo_Kh2qP",
        "colab_type": "code",
        "outputId": "c7308610-3c69-4eae-bf20-7184c2042704",
        "colab": {
          "base_uri": "https://localhost:8080/",
          "height": 34
        }
      },
      "source": [
        "bins[stopper], bins[stopper*2], bins[int(stopper*(4*0.95))]"
      ],
      "execution_count": 0,
      "outputs": [
        {
          "output_type": "execute_result",
          "data": {
            "text/plain": [
              "(-4.158003930345928, -1.936393975698154, 2.0625039426678384)"
            ]
          },
          "metadata": {
            "tags": []
          },
          "execution_count": 92
        }
      ]
    },
    {
      "cell_type": "code",
      "metadata": {
        "id": "Gk-DKWxrJsEP",
        "colab_type": "code",
        "outputId": "fefa83a0-6671-43a1-9289-618fd22f6e1e",
        "colab": {
          "base_uri": "https://localhost:8080/",
          "height": 34
        }
      },
      "source": [
        "# #of encounters where the risk is greater than pct % \n",
        "pct = 0.15\n",
        "1*(preds > pct).sum()"
      ],
      "execution_count": 0,
      "outputs": [
        {
          "output_type": "execute_result",
          "data": {
            "text/plain": [
              "784"
            ]
          },
          "metadata": {
            "tags": []
          },
          "execution_count": 93
        }
      ]
    },
    {
      "cell_type": "code",
      "metadata": {
        "id": "Je5Ij38GSl5C",
        "colab_type": "code",
        "colab": {}
      },
      "source": [
        "preds.shape\n",
        "\n",
        "sortedpreds = np.sort(preds)"
      ],
      "execution_count": 0,
      "outputs": []
    },
    {
      "cell_type": "code",
      "metadata": {
        "id": "5xwDdvAeuWHi",
        "colab_type": "code",
        "outputId": "a322660c-dbe4-49df-92b5-c6511b687a8a",
        "colab": {
          "base_uri": "https://localhost:8080/",
          "height": 34
        }
      },
      "source": [
        "sortedpreds.shape"
      ],
      "execution_count": 0,
      "outputs": [
        {
          "output_type": "execute_result",
          "data": {
            "text/plain": [
              "(11802,)"
            ]
          },
          "metadata": {
            "tags": []
          },
          "execution_count": 95
        }
      ]
    },
    {
      "cell_type": "code",
      "metadata": {
        "id": "C2G38IHJuiFD",
        "colab_type": "code",
        "outputId": "5c705215-3d31-4567-fb90-e64b19b75d65",
        "colab": {
          "base_uri": "https://localhost:8080/",
          "height": 102
        }
      },
      "source": [
        "print(preds[preds > 0.2].shape)\n",
        "print(preds[np.logical_and(preds > 0.1, preds < 0.2)].shape)\n",
        "print(preds[np.logical_and(preds > 0.05, preds < 0.1)].shape)\n",
        "print(preds[np.logical_and(preds > 0.02, preds < 0.05)].shape)\n",
        "print(preds[preds < 0.02].shape)"
      ],
      "execution_count": 0,
      "outputs": [
        {
          "output_type": "stream",
          "text": [
            "(529,)\n",
            "(814,)\n",
            "(1471,)\n",
            "(3610,)\n",
            "(5378,)\n"
          ],
          "name": "stdout"
        }
      ]
    },
    {
      "cell_type": "code",
      "metadata": {
        "id": "6Z7w6STj3Gyx",
        "colab_type": "code",
        "outputId": "3be36b45-6276-4f97-89ca-4205c91e3902",
        "colab": {
          "base_uri": "https://localhost:8080/",
          "height": 34
        }
      },
      "source": [
        "529 + 814+1471+3610+5378"
      ],
      "execution_count": 0,
      "outputs": [
        {
          "output_type": "execute_result",
          "data": {
            "text/plain": [
              "11802"
            ]
          },
          "metadata": {
            "tags": []
          },
          "execution_count": 110
        }
      ]
    },
    {
      "cell_type": "code",
      "metadata": {
        "id": "aKnJltvN3-lq",
        "colab_type": "code",
        "colab": {}
      },
      "source": [
        ""
      ],
      "execution_count": 0,
      "outputs": []
    }
  ]
}