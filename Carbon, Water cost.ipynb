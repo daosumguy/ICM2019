{
 "cells": [
  {
   "cell_type": "markdown",
   "metadata": {},
   "source": [
    "Cost of Carbon \n",
    "\n",
    "1 tree | 48 lbs CO2| 1 kg CO2 | 1 m^3 CO2 | 1 ton CO2 | 22,730 mol CO2 | 450 kcal | 4184 J  |\n",
    "------------------------------------------------------------------------------------------------ =  J/m^2 \n",
    "1 m^2 | 1 tree | 2.2 lbs CO2 | 1.98 kg CO2 | 556.2 m^3 CO2 | 1 ton CO2 | 1 mol CO2 | 1 kcal |\n"
   ]
  },
  {
   "cell_type": "code",
   "execution_count": 49,
   "metadata": {},
   "outputs": [],
   "source": [
    "def carbon_cost(project_area, electricity_cost, percent_foliage):\n",
    "    elc_cost = electricity_cost/(3.6*10**6)\n",
    "    k = (4184*117*.26*907185*48)/(3.6*10**6*44.01*2000)\n",
    "    cost = k*electricity_cost*project_area*percent_foliage\n",
    "    \n",
    "    return cost\n"
   ]
  },
  {
   "cell_type": "code",
   "execution_count": 58,
   "metadata": {},
   "outputs": [
    {
     "name": "stdout",
     "output_type": "stream",
     "text": [
      "506848030.4050393 796123610.1432613 1302971640.5483007\n"
     ]
    },
    {
     "data": {
      "text/plain": [
       "1302971640"
      ]
     },
     "execution_count": 58,
     "metadata": {},
     "output_type": "execute_result"
    }
   ],
   "source": [
    "temp1 = carbon_cost(143102960, 0.30, .675)\n",
    "temp2 = water_cost(143102960, 0.3, 2933)\n",
    "print(temp1, temp2, temp1+temp2)\n",
    "\n",
    "506848030+796123610"
   ]
  },
  {
   "cell_type": "code",
   "execution_count": 8,
   "metadata": {},
   "outputs": [],
   "source": [
    "def water_cost(project_area, electricity_cost, precip):\n",
    "    rho = 997\n",
    "    E_m = 22.83\n",
    "    elc_cost = electricity_cost/(3.6*10**6)\n",
    "    cost = precip*project_area*rho*E_m*elc_cost\n",
    "    return cost"
   ]
  },
  {
   "cell_type": "code",
   "execution_count": 59,
   "metadata": {},
   "outputs": [
    {
     "name": "stdout",
     "output_type": "stream",
     "text": [
      "10442.362680986742\n"
     ]
    }
   ],
   "source": [
    "#Facebook 0% Canopy Coverage, 457.2 mm/year precip, 40227 m^2 area, .0898 $/kwHr electricity_cost\n",
    "\n",
    "fb1 = carbon_cost(40227, .0898, 0)\n",
    "fb2 = water_cost(40227, .0898, 457.2)\n",
    "print(fb1 + fb2)"
   ]
  },
  {
   "cell_type": "code",
   "execution_count": 60,
   "metadata": {},
   "outputs": [
    {
     "name": "stdout",
     "output_type": "stream",
     "text": [
      "26209352.022475235\n"
     ]
    }
   ],
   "source": [
    "#Via Verde pipeline 54.7% canopy coverage, 1550 mm/yr precip, 6766344 m^2 area, .20 $/kWhr electricity_cost\n",
    "verde1 = carbon_cost(6766344, .20, .547)\n",
    "verde2 = water_cost(6766344, .20, 1550)\n",
    "print(verde1 + verde2)"
   ]
  },
  {
   "cell_type": "code",
   "execution_count": 53,
   "metadata": {},
   "outputs": [
    {
     "name": "stdout",
     "output_type": "stream",
     "text": [
      "1302971640.5483007\n"
     ]
    }
   ],
   "source": [
    "#Nicaragua Canal\n",
    "nic1 = carbon_cost(143102960, .30, .675)\n",
    "nic2 = water_cost(143102960, .30, 2933)\n",
    "print(nic1 + nic2)"
   ]
  },
  {
   "cell_type": "code",
   "execution_count": 12,
   "metadata": {},
   "outputs": [
    {
     "data": {
      "text/plain": [
       "129.99981523773963"
      ]
     },
     "execution_count": 12,
     "metadata": {},
     "output_type": "execute_result"
    }
   ],
   "source": [
    "#housing in Washington\n",
    "carbon_cost(219.2, .0968, .43)\n",
    "water_cost(219.2, .0968, 969.01)"
   ]
  },
  {
   "cell_type": "code",
   "execution_count": 61,
   "metadata": {},
   "outputs": [
    {
     "name": "stdout",
     "output_type": "stream",
     "text": [
      "313601.4619147302\n"
     ]
    }
   ],
   "source": [
    "#building roads in Australia\n",
    "aus1 = carbon_cost(10000*11.1, .19, .57)\n",
    "aus2 = water_cost(10000*11.1, .19, 775)\n",
    "\n",
    "print(aus1+aus2)"
   ]
  },
  {
   "cell_type": "code",
   "execution_count": 62,
   "metadata": {},
   "outputs": [
    {
     "name": "stdout",
     "output_type": "stream",
     "text": [
      "772.9119552915829\n"
     ]
    }
   ],
   "source": [
    "#building roads in Egypt\n",
    "eg1 = carbon_cost(10000*11.1, .08, 0.001)\n",
    "eg2 = water_cost(1000*11.1, .08, 110)\n",
    "\n",
    "print(eg1 + eg2)"
   ]
  },
  {
   "cell_type": "code",
   "execution_count": null,
   "metadata": {},
   "outputs": [],
   "source": []
  },
  {
   "cell_type": "code",
   "execution_count": null,
   "metadata": {},
   "outputs": [],
   "source": []
  },
  {
   "cell_type": "code",
   "execution_count": null,
   "metadata": {},
   "outputs": [],
   "source": []
  },
  {
   "cell_type": "code",
   "execution_count": 4,
   "metadata": {},
   "outputs": [],
   "source": [
    "def carbon_cost(project_area, electricity_cost):\n",
    "    a = 48*22730*450*4184\n",
    "    b = 2.205*1.98*556.2\n",
    "    \n",
    "    return (a/b)*project_area*electricity_cost"
   ]
  },
  {
   "cell_type": "code",
   "execution_count": 5,
   "metadata": {},
   "outputs": [
    {
     "name": "stdout",
     "output_type": "stream",
     "text": [
      "0 cents 0.0\n",
      "1 cents 6.638629657733291\n",
      "2 cents 13.277259315466582\n",
      "3 cents 19.91588897319987\n",
      "4 cents 26.554518630933163\n",
      "5 cents 33.19314828866645\n",
      "6 cents 39.83177794639974\n",
      "7 cents 46.470407604133044\n",
      "8 cents 53.10903726186633\n",
      "9 cents 59.74766691959961\n",
      "10 cents 66.3862965773329\n",
      "11 cents 73.0249262350662\n",
      "12 cents 79.66355589279948\n",
      "13 cents 86.30218555053278\n",
      "14 cents 92.94081520826609\n",
      "15 cents 99.57944486599935\n",
      "16 cents 106.21807452373265\n",
      "17 cents 112.85670418146594\n",
      "18 cents 119.49533383919922\n",
      "19 cents 126.13396349693254\n",
      "20 cents 132.7725931546658\n",
      "21 cents 139.4112228123991\n"
     ]
    }
   ],
   "source": [
    "for i in range(22):\n",
    "    a = i*(1/100)*4184*117*.25*907185\n",
    "    b = (3.8*10**6)*44.01\n",
    "    print(\"{} cents\".format(i),a/b)"
   ]
  },
  {
   "cell_type": "code",
   "execution_count": null,
   "metadata": {},
   "outputs": [],
   "source": []
  }
 ],
 "metadata": {
  "kernelspec": {
   "display_name": "Python 3",
   "language": "python",
   "name": "python3"
  },
  "language_info": {
   "codemirror_mode": {
    "name": "ipython",
    "version": 3
   },
   "file_extension": ".py",
   "mimetype": "text/x-python",
   "name": "python",
   "nbconvert_exporter": "python",
   "pygments_lexer": "ipython3",
   "version": "3.7.3"
  }
 },
 "nbformat": 4,
 "nbformat_minor": 2
}
